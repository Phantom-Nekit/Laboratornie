{
 "cells": [
  {
   "cell_type": "code",
   "execution_count": 1,
   "id": "751c7303-c034-40a2-b955-5d22ad3bbd12",
   "metadata": {},
   "outputs": [],
   "source": [
    "# Задача 1.\n",
    "# Исследовать качество работы классификаторы в зависимости от выбранного метода преобразования данных\n",
    "# Изучить методы преобразования данных: from sklearn.preprocessing https://scikit-learn.org/stable/modules/preprocessing.html\n",
    "# Критерий качества - accuracy\n",
    "# Сформировать таблицу для сравнения"
   ]
  },
  {
   "cell_type": "code",
   "execution_count": 2,
   "id": "bf847e25-bc3d-4f6f-8ab6-f0333c4562d4",
   "metadata": {},
   "outputs": [
    {
     "name": "stdout",
     "output_type": "stream",
     "text": [
      "            Метод  Точность\n",
      "0  StandardScaler  0.666667\n",
      "1    MinMaxScaler  0.680000\n",
      "2    MaxAbsScaler  0.680000\n",
      "3    RobustScaler  0.666667\n",
      "4      Normalizer  0.640000\n"
     ]
    }
   ],
   "source": [
    "import pandas as pd\n",
    "import numpy as np\n",
    "from sklearn.datasets import load_iris\n",
    "from sklearn.model_selection import train_test_split\n",
    "from sklearn.neighbors import KNeighborsClassifier\n",
    "from sklearn.metrics import accuracy_score\n",
    "from sklearn.preprocessing import StandardScaler, MinMaxScaler, MaxAbsScaler, RobustScaler, Normalizer\n",
    "\n",
    "iris = load_iris()\n",
    "X = iris.data[:, :2]\n",
    "y = iris.target\n",
    "\n",
    "X_train, X_test, y_train, y_test = train_test_split(X, y, test_size=0.5, random_state=0)\n",
    "\n",
    "scalers = {\n",
    "    \"StandardScaler\": StandardScaler(),\n",
    "    \"MinMaxScaler\": MinMaxScaler(),\n",
    "    \"MaxAbsScaler\": MaxAbsScaler(),\n",
    "    \"RobustScaler\": RobustScaler(),\n",
    "    \"Normalizer\": Normalizer(),\n",
    "}\n",
    "\n",
    "results = []\n",
    "classifier = KNeighborsClassifier(n_neighbors=1)\n",
    "\n",
    "for scaler_name, scaler in scalers.items():\n",
    "    scaler.fit(X_train)\n",
    "    X_train_scaled = scaler.transform(X_train)\n",
    "    X_test_scaled = scaler.transform(X_test)\n",
    "    \n",
    "    classifier.fit(X_train_scaled, y_train)\n",
    "    \n",
    "    y_pred = classifier.predict(X_test_scaled)\n",
    "    \n",
    "    accuracy = accuracy_score(y_test, y_pred)\n",
    "    \n",
    "    results.append({\"Метод\": scaler_name, \"Точность\": accuracy})\n",
    "\n",
    "results_df = pd.DataFrame(results)\n",
    "print(results_df)"
   ]
  },
  {
   "cell_type": "code",
   "execution_count": null,
   "id": "cd6d5124-0be8-43cf-b1d1-a6b2bfd62671",
   "metadata": {},
   "outputs": [],
   "source": []
  }
 ],
 "metadata": {
  "kernelspec": {
   "display_name": "Python 3 (ipykernel)",
   "language": "python",
   "name": "python3"
  },
  "language_info": {
   "codemirror_mode": {
    "name": "ipython",
    "version": 3
   },
   "file_extension": ".py",
   "mimetype": "text/x-python",
   "name": "python",
   "nbconvert_exporter": "python",
   "pygments_lexer": "ipython3",
   "version": "3.12.4"
  }
 },
 "nbformat": 4,
 "nbformat_minor": 5
}
